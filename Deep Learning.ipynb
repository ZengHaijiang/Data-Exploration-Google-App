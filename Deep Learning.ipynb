{
 "cells": [
  {
   "cell_type": "code",
   "execution_count": 1,
   "metadata": {},
   "outputs": [
    {
     "data": {
      "text/plain": [
       "[]"
      ]
     },
     "execution_count": 1,
     "metadata": {},
     "output_type": "execute_result"
    },
    {
     "data": {
      "image/png": "[encoded data removed]",
      "text/plain": [
       "<Figure size 432x288 with 1 Axes>"
      ]
     },
     "metadata": {
      "needs_background": "light"
     },
     "output_type": "display_data"
    }
   ],
   "source": [
    "import numpy as np\n",
    "from matplotlib import pyplot as plt \n",
    "%matplotlib inline\n",
    "#Input data\n",
    "x = np.array([\n",
    "[-2,4,-1], [4,1,-1], [1, 6, -1], [2, 4, -1], [6, 2, -1],\n",
    "])\n",
    "#output label\n",
    "y = np.array([-1, -1, 1, 1, 1])\n",
    "for val, inp in enumerate(x): \n",
    "    if y[val] == -1:\n",
    "        plt.scatter(inp[0], inp[1], s=100, marker='_', linewidths=5) \n",
    "    else:\n",
    "        plt.scatter(inp[0], inp[1], s=100, marker='+', linewidths=5) \n",
    "plt.plot()"
   ]
  },
  {
   "cell_type": "code",
   "execution_count": 2,
   "metadata": {},
   "outputs": [
    {
     "data": {
      "text/plain": [
       "[]"
      ]
     },
     "execution_count": 2,
     "metadata": {},
     "output_type": "execute_result"
    },
    {
     "data": {
      "image/png": "[encoded data removed]",
      "text/plain": [
       "<Figure size 432x288 with 1 Axes>"
      ]
     },
     "metadata": {
      "needs_background": "light"
     },
     "output_type": "display_data"
    }
   ],
   "source": [
    "for val, inp in enumerate(x): \n",
    "    if y[val] == -1:\n",
    "        plt.scatter(inp[0], inp[1], s=100, marker='_', linewidths=5) \n",
    "    else:\n",
    "        plt.scatter(inp[0], inp[1], s=100, marker='+', linewidths=5) \n",
    "plt.plot()"
   ]
  },
  {
   "cell_type": "code",
   "execution_count": 3,
   "metadata": {},
   "outputs": [],
   "source": [
    "def svm_function(x,y): #initilizing weight\n",
    "    w = np.zeros(len(x[0])) #initialize learning rate \n",
    "    l_rate = 1\n",
    "#epoch\n",
    "    epoch = 100000 #output list\n",
    "    out = []\n",
    "#training svm\n",
    "    for e in range(epoch):\n",
    "        for i, val in enumerate(x): \n",
    "            val1 = np.dot(x[i], w)\n",
    "            if (y[i]*val1 < 1):\n",
    "                w = w + l_rate * ((y[i]*x[i]) - (2*(1/epoch)*w))\n",
    "            else:\n",
    "                w = w + l_rate * (-2*(1/epoch)*w)\n",
    "    for i, val in enumerate(x): \n",
    "        out.append(np.dot(x[i], w))\n",
    "    return w, out"
   ]
  },
  {
   "cell_type": "code",
   "execution_count": 4,
   "metadata": {
    "scrolled": true
   },
   "outputs": [
    {
     "data": {
      "text/plain": [
       "<matplotlib.quiver.Quiver at 0x112f89898>"
      ]
     },
     "execution_count": 4,
     "metadata": {},
     "output_type": "execute_result"
    },
    {
     "data": {
      "image/png": "[encoded data removed]",
      "text/plain": [
       "<Figure size 432x288 with 1 Axes>"
      ]
     },
     "metadata": {
      "needs_background": "light"
     },
     "output_type": "display_data"
    }
   ],
   "source": [
    "w, out = svm_function(x,y)\n",
    "for val, inp in enumerate(x): \n",
    "    if y[val] == -1:\n",
    "        plt.scatter(inp[0], inp[1], s=100, marker='_', linewidths=5) \n",
    "    else:\n",
    "        plt.scatter(inp[0], inp[1], s=100, marker='+', linewidths=5)\n",
    "plt.scatter(-1,3, s=100, marker='_', linewidths=5) \n",
    "plt.scatter(5,5, s=100, marker='+', linewidths=5)\n",
    "x1=[w[0],w[1],-w[1],w[0]] \n",
    "x2=[w[0],w[1],w[1],-w[0]]\n",
    "x1x2 =np.array([x1,x2])\n",
    "X,Y,U,V = zip(*x1x2)\n",
    "ax = plt.gca() \n",
    "ax.quiver(X,Y,U,V,scale=1, color='blue')"
   ]
  },
  {
   "cell_type": "code",
   "execution_count": 11,
   "metadata": {},
   "outputs": [],
   "source": [
    "import chainer \n",
    "import numpy as np \n",
    "import random\n",
    "num_labels = 10 \n",
    "num_units = 40 \n",
    "size_inputs = 28*28\n",
    "learningrate = 0.05\n",
    "epoch = 10\n",
    "train,test = chainer.datasets.get_mnist()\n",
    "## To put the model in one dictionary, for multi layers, this could be a huge dictionary \n",
    "model = {}\n",
    "model['W1'] = np.random.randn(num_units,size_inputs) / np.sqrt(size_inputs) \n",
    "model['W2'] = np.random.randn(num_labels,num_units) / np.sqrt(num_units)"
   ]
  },
  {
   "cell_type": "code",
   "execution_count": 12,
   "metadata": {},
   "outputs": [],
   "source": [
    "###### This part is the helper functions\n",
    "###### Note that in this case the b is zero, so we are only doing the W here. \n",
    "def sigma_function(Z): \n",
    "    # Z needs to be a column\n",
    "    result = np.exp(Z)/(np.exp(Z)+1) \n",
    "    return result\n",
    "def signma_function_derivative (Z):\n",
    "    result = np.exp(Z)/((1+np.exp(Z)) ** 2) \n",
    "    return result\n",
    "def softmax_function(Z):\n",
    "    result = np.exp(Z) / np.sum(np.exp(Z)) \n",
    "    return result"
   ]
  },
  {
   "cell_type": "code",
   "execution_count": 13,
   "metadata": {},
   "outputs": [],
   "source": [
    "def forward_function(X,model): # X needs to be a column \n",
    "    Z1 = np.dot(model['W1'],X)\n",
    "    a = sigma_function(Z1)\n",
    "    Z2 = np.dot(model['W2'],a)\n",
    "    f_theta = softmax_function(Z2)\n",
    "    return a, Z1, Z2, f_theta # the resulting f_theta is also a column\n",
    "def backward_function(f_theta,correct_label,Z1,X,a,model): \n",
    "    delta_3 = -f_theta\n",
    "    delta_3[correct_label] +=1\n",
    "    a_grad = signma_function_derivative(Z1)\n",
    "    delta_2 = np.dot(np.transpose(model['W2']),delta_3) * a_grad \n",
    "    W2_delta = np.dot(delta_3, np.transpose(a))\n",
    "    W1_delta = np.dot(delta_2, np.transpose(X))\n",
    "    return W1_delta,W2_delta"
   ]
  },
  {
   "cell_type": "code",
   "execution_count": 14,
   "metadata": {},
   "outputs": [
    {
     "name": "stdout",
     "output_type": "stream",
     "text": [
      "The correctness in the training of this learning set is  0.9821333333333333\n"
     ]
    }
   ],
   "source": [
    "## This part is the main calculation that makes use of the above functions \n",
    "for i in range(0,epoch):\n",
    "    total_traincorrect = 0\n",
    "    for n in range(0,len(train)-1):\n",
    "        n_random = random.randint(0,len(train)-1)\n",
    "        X = train[n_random][0].reshape(len(train[n_random][0]),1) \n",
    "        Y = train[n_random][1]\n",
    "        a,Z1,Z2,f_theta = forward_function(X,model)\n",
    "        prediction = np.argmax(f_theta)\n",
    "        if (prediction == Y): \n",
    "            total_traincorrect +=1\n",
    "        W1_delta,W2_delta = backward_function(f_theta,Y,Z1,X,a,model) \n",
    "        model['W1'] += learningrate * W1_delta\n",
    "        model['W2'] += learningrate * W2_delta\n",
    "print (\"The correctness in the training of this learning set is \", total_traincorrect/np.float(len(train)))"
   ]
  },
  {
   "cell_type": "code",
   "execution_count": 15,
   "metadata": {},
   "outputs": [
    {
     "name": "stdout",
     "output_type": "stream",
     "text": [
      "The final correctness in the testing of this network is  0.9701\n"
     ]
    }
   ],
   "source": [
    "total_testcorrect = 0;\n",
    "for j in range(0,len(test)):\n",
    "    X = test[j][0].reshape(len(test[j][0]),1)\n",
    "    Y = test[j][1]\n",
    "    a,Z1,Z2,f_theta = forward_function(X,model) \n",
    "    prediction = np.argmax(f_theta)\n",
    "    if (prediction ==Y): \n",
    "        total_testcorrect+=1\n",
    "print (\"The final correctness in the testing of this network is \", total_testcorrect/np.float(len(test)))"
   ]
  }
 ],
 "metadata": {
  "kernelspec": {
   "display_name": "Python 3",
   "language": "python",
   "name": "python3"
  },
  "language_info": {
   "codemirror_mode": {
    "name": "ipython",
    "version": 3
   },
   "file_extension": ".py",
   "mimetype": "text/x-python",
   "name": "python",
   "nbconvert_exporter": "python",
   "pygments_lexer": "ipython3",
   "version": "3.6.8"
  }
 },
 "nbformat": 4,
 "nbformat_minor": 2
}
